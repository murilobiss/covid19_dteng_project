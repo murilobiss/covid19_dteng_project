{
 "cells": [
  {
   "cell_type": "code",
   "execution_count": 3,
   "id": "9eabb09e",
   "metadata": {},
   "outputs": [],
   "source": [
    "import boto3\n",
    "import pandas as pd\n",
    "from io import StringIO\n",
    "import time\n",
    "import botocore.exceptions\n",
    "import uuid"
   ]
  },
  {
   "cell_type": "code",
   "execution_count": 4,
   "id": "60cce949",
   "metadata": {},
   "outputs": [],
   "source": [
    "AWS_ACCESS_KEY = \"******************\"\n",
    "AWS_SECRET_KEY = \"******************\"\n",
    "AWS_REGION = \"us-east-1\"\n",
    "SCHEMA_NAME = \"covid_19\"\n",
    "S3_STAGING_DIR = \"s3://******************/output/\"\n",
    "S3_BUCKET_NAME = \"******************\"\n",
    "S3_OUTPUT_DIRECTORY = \"output\""
   ]
  },
  {
   "cell_type": "code",
   "execution_count": 3,
   "id": "3384605a",
   "metadata": {},
   "outputs": [],
   "source": [
    "athena_client = boto3.client(\n",
    "    \"athena\",\n",
    "    aws_access_key_id = AWS_ACCESS_KEY,\n",
    "    aws_secret_access_key = AWS_SECRET_KEY,\n",
    "    region_name = AWS_REGION,\n",
    ")"
   ]
  },
  {
   "cell_type": "code",
   "execution_count": 4,
   "id": "157b0d0a",
   "metadata": {},
   "outputs": [],
   "source": [
    "Dict = {}\n",
    "\n",
    "def download_and_load_query_results(\n",
    "    client: boto3.client, query_response: Dict, table_name: str\n",
    ") -> pd.DataFrame:\n",
    "    while True:\n",
    "        try:\n",
    "            client.get_query_results(\n",
    "                QueryExecutionId=query_response[\"QueryExecutionId\"]\n",
    "            )\n",
    "            break\n",
    "        except Exception as err:\n",
    "            if \"not yet finished\" in str(err):\n",
    "                time.sleep(0.001)\n",
    "            else:\n",
    "                raise err\n",
    "    temp_file_location: str = f\"{table_name}_athena_query_results.csv\"\n",
    "    s3_client = boto3.client(\n",
    "        \"s3\",\n",
    "        aws_access_key_id=AWS_ACCESS_KEY,\n",
    "        aws_secret_access_key=AWS_SECRET_KEY,\n",
    "        region_name=AWS_REGION,\n",
    "    )\n",
    "    s3_client.download_file(\n",
    "        S3_BUCKET_NAME,\n",
    "        f\"{S3_OUTPUT_DIRECTORY}/{query_response['QueryExecutionId']}.csv\",\n",
    "        temp_file_location,\n",
    "    )\n",
    "    return pd.read_csv(temp_file_location)"
   ]
  },
  {
   "cell_type": "code",
   "execution_count": null,
   "id": "7216efc7",
   "metadata": {},
   "outputs": [],
   "source": [
    "tables = [\n",
    "    \"nytimes_data_in_usa_us_county\",\n",
    "    \"nytimes_data_in_usa_us_states\",\n",
    "    \"rearc_covid_19_testing_data_states_daily\",\n",
    "    \"rearc_covid_19_testing_data_us_daily\",\n",
    "    \"rearc_covid_19_testing_data_us_total_latest\",\n",
    "    \"static_datasets_countrycode\",\n",
    "    \"static_datasets_countypopulation\",\n",
    "    \"static_datasets_state_abv\"\n",
    "]\n",
    "\n",
    "for table in tables:\n",
    "    response = athena_client.start_query_execution(\n",
    "        QueryString=f\"SELECT * FROM {table} limit 30000\",\n",
    "        QueryExecutionContext={\"Database\": SCHEMA_NAME},\n",
    "        ResultConfiguration={\n",
    "            \"OutputLocation\": S3_STAGING_DIR,\n",
    "            \"EncryptionConfiguration\": {\"EncryptionOption\": \"SSE_S3\"},\n",
    "        },\n",
    "    )\n",
    "    dataframe = download_and_load_query_results(athena_client, response, table)\n",
    "    exec(f\"{table} = dataframe\")"
   ]
  },
  {
   "attachments": {},
   "cell_type": "markdown",
   "id": "10a215a2",
   "metadata": {},
   "source": [
    "# static_datasets_state_abv table with issue in columns name"
   ]
  },
  {
   "cell_type": "code",
   "execution_count": 70,
   "id": "33b3829a",
   "metadata": {},
   "outputs": [],
   "source": [
    "static_datasets_state_abv.rename(columns=static_datasets_state_abv.iloc[0], inplace=True)"
   ]
  },
  {
   "cell_type": "code",
   "execution_count": 72,
   "id": "edfb0f19",
   "metadata": {},
   "outputs": [],
   "source": [
    "static_datasets_state_abv = static_datasets_state_abv[1:]"
   ]
  },
  {
   "cell_type": "code",
   "execution_count": 73,
   "id": "64fa92f4",
   "metadata": {},
   "outputs": [
    {
     "data": {
      "text/html": [
       "<div>\n",
       "<style scoped>\n",
       "    .dataframe tbody tr th:only-of-type {\n",
       "        vertical-align: middle;\n",
       "    }\n",
       "\n",
       "    .dataframe tbody tr th {\n",
       "        vertical-align: top;\n",
       "    }\n",
       "\n",
       "    .dataframe thead th {\n",
       "        text-align: right;\n",
       "    }\n",
       "</style>\n",
       "<table border=\"1\" class=\"dataframe\">\n",
       "  <thead>\n",
       "    <tr style=\"text-align: right;\">\n",
       "      <th></th>\n",
       "      <th>State</th>\n",
       "      <th>Abbreviation</th>\n",
       "    </tr>\n",
       "  </thead>\n",
       "  <tbody>\n",
       "    <tr>\n",
       "      <th>1</th>\n",
       "      <td>Alabama</td>\n",
       "      <td>AL</td>\n",
       "    </tr>\n",
       "    <tr>\n",
       "      <th>2</th>\n",
       "      <td>Alaska</td>\n",
       "      <td>AK</td>\n",
       "    </tr>\n",
       "    <tr>\n",
       "      <th>3</th>\n",
       "      <td>Arizona</td>\n",
       "      <td>AZ</td>\n",
       "    </tr>\n",
       "    <tr>\n",
       "      <th>4</th>\n",
       "      <td>Arkansas</td>\n",
       "      <td>AR</td>\n",
       "    </tr>\n",
       "    <tr>\n",
       "      <th>5</th>\n",
       "      <td>California</td>\n",
       "      <td>CA</td>\n",
       "    </tr>\n",
       "  </tbody>\n",
       "</table>\n",
       "</div>"
      ],
      "text/plain": [
       "        State Abbreviation\n",
       "1     Alabama           AL\n",
       "2      Alaska           AK\n",
       "3     Arizona           AZ\n",
       "4    Arkansas           AR\n",
       "5  California           CA"
      ]
     },
     "execution_count": 73,
     "metadata": {},
     "output_type": "execute_result"
    }
   ],
   "source": [
    "static_datasets_state_abv.head()"
   ]
  },
  {
   "attachments": {},
   "cell_type": "markdown",
   "id": "3e7b40aa",
   "metadata": {},
   "source": [
    "# Data Modeling"
   ]
  },
  {
   "cell_type": "code",
   "execution_count": 77,
   "id": "3025e203",
   "metadata": {},
   "outputs": [],
   "source": [
    "factCovid_1 = enigma_jhud[['fips', 'province_state','country_region','confirmed','deaths','recovered','active']]\n",
    "factCovid_2 = rearc_covid_19_testing_data_states_daily[['fips', 'date', 'positive', 'negative', 'hospitalizedcurrently', 'hospitalized', 'hospitalizeddischarged']]\n",
    "factCovid = pd.merge(factCovid_1, factCovid_2, on='fips', how='inner')"
   ]
  },
  {
   "cell_type": "code",
   "execution_count": 80,
   "id": "d6ce37d9",
   "metadata": {},
   "outputs": [],
   "source": [
    "dimRegion_1 = enigma_jhud[['fips', 'province_state','country_region','latitude','longitude']]\n",
    "dimRegion_2 = nytimes_data_in_usa_us_county[['fips','county','state']]\n",
    "dimRegion = pd.merge(dimRegion_1, dimRegion_2, on='fips', how='inner')"
   ]
  },
  {
   "cell_type": "code",
   "execution_count": 83,
   "id": "637804be",
   "metadata": {},
   "outputs": [],
   "source": [
    "dimDate = rearc_covid_19_testing_data_states_daily[['fips','date']]"
   ]
  },
  {
   "cell_type": "code",
   "execution_count": 87,
   "id": "d6c321fd",
   "metadata": {},
   "outputs": [
    {
     "name": "stderr",
     "output_type": "stream",
     "text": [
      "/tmp/ipykernel_22499/572748324.py:1: SettingWithCopyWarning: \n",
      "A value is trying to be set on a copy of a slice from a DataFrame.\n",
      "Try using .loc[row_indexer,col_indexer] = value instead\n",
      "\n",
      "See the caveats in the documentation: https://pandas.pydata.org/pandas-docs/stable/user_guide/indexing.html#returning-a-view-versus-a-copy\n",
      "  dimDate['date'] = pd.to_datetime(dimDate['date'], format='%Y%m%d')\n"
     ]
    }
   ],
   "source": [
    "dimDate['date'] = pd.to_datetime(dimDate['date'], format='%Y%m%d')"
   ]
  },
  {
   "cell_type": "code",
   "execution_count": 89,
   "id": "8d1a2d55",
   "metadata": {},
   "outputs": [
    {
     "name": "stderr",
     "output_type": "stream",
     "text": [
      "/tmp/ipykernel_22499/935310350.py:1: SettingWithCopyWarning: \n",
      "A value is trying to be set on a copy of a slice from a DataFrame.\n",
      "Try using .loc[row_indexer,col_indexer] = value instead\n",
      "\n",
      "See the caveats in the documentation: https://pandas.pydata.org/pandas-docs/stable/user_guide/indexing.html#returning-a-view-versus-a-copy\n",
      "  dimDate['year'] = dimDate['date'].dt.year\n",
      "/tmp/ipykernel_22499/935310350.py:2: SettingWithCopyWarning: \n",
      "A value is trying to be set on a copy of a slice from a DataFrame.\n",
      "Try using .loc[row_indexer,col_indexer] = value instead\n",
      "\n",
      "See the caveats in the documentation: https://pandas.pydata.org/pandas-docs/stable/user_guide/indexing.html#returning-a-view-versus-a-copy\n",
      "  dimDate['month'] = dimDate['date'].dt.month\n",
      "/tmp/ipykernel_22499/935310350.py:3: SettingWithCopyWarning: \n",
      "A value is trying to be set on a copy of a slice from a DataFrame.\n",
      "Try using .loc[row_indexer,col_indexer] = value instead\n",
      "\n",
      "See the caveats in the documentation: https://pandas.pydata.org/pandas-docs/stable/user_guide/indexing.html#returning-a-view-versus-a-copy\n",
      "  dimDate['day_of_week'] = dimDate['date'].dt.dayofweek\n"
     ]
    }
   ],
   "source": [
    "dimDate['year'] = dimDate['date'].dt.year\n",
    "dimDate['month'] = dimDate['date'].dt.month\n",
    "dimDate['day_of_week'] = dimDate['date'].dt.dayofweek"
   ]
  },
  {
   "cell_type": "code",
   "execution_count": 102,
   "id": "c0e20f71",
   "metadata": {},
   "outputs": [],
   "source": [
    "bucket = '*************'\n",
    "\n",
    "def send_dataframe_to_s3(dataframe, bucket, s3_key):\n",
    "    csv_buffer = StringIO()\n",
    "    dataframe.to_csv(csv_buffer, index=False)\n",
    "    s3_resource = boto3.resource('s3')\n",
    "    s3_resource.Object(bucket, s3_key).put(Body=csv_buffer.getvalue())\n",
    "\n",
    "send_dataframe_to_s3(factCovid, bucket, 'output/factCovid.csv')\n",
    "send_dataframe_to_s3(dimRegion, bucket, 'output/dimRegion.csv')\n",
    "send_dataframe_to_s3(dimDate, bucket, 'output/dimDate.csv')"
   ]
  },
  {
   "cell_type": "code",
   "execution_count": 110,
   "id": "aff6c300",
   "metadata": {},
   "outputs": [
    {
     "name": "stdout",
     "output_type": "stream",
     "text": [
      "CREATE TABLE \"dimDate\" (\n",
      "\"index\" INTEGER,\n",
      "  \"fips\" REAL,\n",
      "  \"date\" TIMESTAMP,\n",
      "  \"year\" INTEGER,\n",
      "  \"month\" INTEGER,\n",
      "  \"day_of_week\" INTEGER\n",
      ")\n"
     ]
    }
   ],
   "source": [
    "dimDatesql = pd.io.sql.get_schema(dimDate.reset_index(), 'dimDate')\n",
    "print(''.join(dimDatesql))"
   ]
  },
  {
   "cell_type": "code",
   "execution_count": 112,
   "id": "397282d6",
   "metadata": {},
   "outputs": [
    {
     "name": "stdout",
     "output_type": "stream",
     "text": [
      "CREATE TABLE \"factCovid\" (\n",
      "\"index\" INTEGER,\n",
      "  \"fips\" REAL,\n",
      "  \"province_state\" TEXT,\n",
      "  \"country_region\" TEXT,\n",
      "  \"confirmed\" REAL,\n",
      "  \"deaths\" REAL,\n",
      "  \"recovered\" REAL,\n",
      "  \"active\" REAL,\n",
      "  \"date\" INTEGER,\n",
      "  \"positive\" INTEGER,\n",
      "  \"negative\" REAL,\n",
      "  \"hospitalizedcurrently\" REAL,\n",
      "  \"hospitalized\" REAL,\n",
      "  \"hospitalizeddischarged\" REAL\n",
      ")\n"
     ]
    }
   ],
   "source": [
    "factCovidsql = pd.io.sql.get_schema(factCovid.reset_index(), 'factCovid')\n",
    "print(''.join(factCovidsql))"
   ]
  },
  {
   "cell_type": "code",
   "execution_count": 113,
   "id": "c2b77399",
   "metadata": {},
   "outputs": [
    {
     "name": "stdout",
     "output_type": "stream",
     "text": [
      "CREATE TABLE \"dimRegion\" (\n",
      "\"index\" INTEGER,\n",
      "  \"fips\" REAL,\n",
      "  \"province_state\" TEXT,\n",
      "  \"country_region\" TEXT,\n",
      "  \"latitude\" REAL,\n",
      "  \"longitude\" REAL,\n",
      "  \"county\" TEXT,\n",
      "  \"state\" TEXT\n",
      ")\n"
     ]
    }
   ],
   "source": [
    "dimRegionsql = pd.io.sql.get_schema(dimRegion.reset_index(), 'dimRegion')\n",
    "print(''.join(dimRegionsql))"
   ]
  },
  {
   "cell_type": "code",
   "execution_count": 5,
   "id": "d9095edd",
   "metadata": {},
   "outputs": [],
   "source": [
    "import psycopg2\n",
    "\n",
    "host = '**********************'\n",
    "port = 5439 \n",
    "database = 'dev'\n",
    "user = ''**********************''\n",
    "password = ''**********************''\n",
    "\n",
    "# Connection to Redshift\n",
    "conn = psycopg2.connect(\n",
    "    host=host,\n",
    "    port=port,\n",
    "    user=user,\n",
    "    password=password,\n",
    "    database=database\n",
    ")"
   ]
  },
  {
   "cell_type": "code",
   "execution_count": 6,
   "id": "0d2f6aed",
   "metadata": {},
   "outputs": [],
   "source": [
    "conn.autocommit = True"
   ]
  },
  {
   "cell_type": "code",
   "execution_count": 7,
   "id": "ca534526",
   "metadata": {},
   "outputs": [],
   "source": [
    "cursor = conn.cursor()"
   ]
  },
  {
   "cell_type": "code",
   "execution_count": 136,
   "id": "174f0d82",
   "metadata": {},
   "outputs": [],
   "source": [
    "cursor.execute(\"\"\"\n",
    "CREATE TABLE \"dimDate\" (\n",
    "  \"index\" INTEGER,\n",
    "  \"fips\" REAL,\n",
    "  \"date\" TIMESTAMP,\n",
    "  \"year\" INTEGER,\n",
    "  \"month\" INTEGER,\n",
    "  \"day_of_week\" INTEGER\n",
    "  )\n",
    "  \"\"\")\n",
    "\n",
    "cursor.execute(\"\"\"\n",
    "CREATE TABLE \"factCovid\" (\n",
    "  \"index\" INTEGER,\n",
    "  \"fips\" REAL,\n",
    "  \"province_state\" TEXT,\n",
    "  \"country_region\" TEXT,\n",
    "  \"confirmed\" REAL,\n",
    "  \"deaths\" REAL,\n",
    "  \"recovered\" REAL,\n",
    "  \"active\" REAL,\n",
    "  \"date\" INTEGER,\n",
    "  \"positive\" INTEGER,\n",
    "  \"negative\" REAL,\n",
    "  \"hospitalizedcurrently\" REAL,\n",
    "  \"hospitalized\" REAL,\n",
    "  \"hospitalizeddischarged\" REAL\n",
    ")\n",
    "  \"\"\")\n",
    "\n",
    "cursor.execute(\"\"\"\n",
    "CREATE TABLE \"dimRegion\" (\n",
    "  \"index\" INTEGER,\n",
    "  \"fips\" REAL,\n",
    "  \"province_state\" TEXT,\n",
    "  \"country_region\" TEXT,\n",
    "  \"latitude\" REAL,\n",
    "  \"longitude\" REAL,\n",
    "  \"county\" TEXT,\n",
    "  \"state\" TEXT\n",
    ")\n",
    "  \"\"\")"
   ]
  },
  {
   "cell_type": "code",
   "execution_count": null,
   "id": "b226529d",
   "metadata": {},
   "outputs": [],
   "source": [
    "cursor.execute(\"\"\"\n",
    "COPY dimDate FROM 's3://**************/output/dimDate.csv'\n",
    "CREDENTIALS 'aws_iam_role=arn:aws:iam::**************:role/redshift-s3-access'\n",
    "DELIMITER ','\n",
    "REGION 'us-east-1'\n",
    "IGNOREHEADER 1;\n",
    "\"\"\")\n",
    "\n",
    "cursor.execute(\"\"\"\n",
    "COPY dimRegion FROM 's3://**************/output/dimRegion.csv'\n",
    "CREDENTIALS 'aws_iam_role=arn:aws:iam::**************:role/redshift-s3-access'\n",
    "DELIMITER ','\n",
    "REGION 'us-east-1'\n",
    "IGNOREHEADER 1;\n",
    "\"\"\")\n",
    "\n",
    "cursor.execute(\"\"\"\n",
    "COPY factCovid FROM 's3://**************/output/factCovid.csv'\n",
    "CREDENTIALS 'aws_iam_role=arn:aws:iam::**************:role/redshift-s3-access'\n",
    "DELIMITER ','\n",
    "REGION 'us-east-1'\n",
    "IGNOREHEADER 1;\n",
    "\"\"\")"
   ]
  }
 ],
 "metadata": {
  "kernelspec": {
   "display_name": "Python 3 (ipykernel)",
   "language": "python",
   "name": "python3"
  },
  "language_info": {
   "codemirror_mode": {
    "name": "ipython",
    "version": 3
   },
   "file_extension": ".py",
   "mimetype": "text/x-python",
   "name": "python",
   "nbconvert_exporter": "python",
   "pygments_lexer": "ipython3",
   "version": "3.10.6"
  }
 },
 "nbformat": 4,
 "nbformat_minor": 5
}
